{
 "cells": [
  {
   "cell_type": "code",
   "execution_count": 1,
   "metadata": {},
   "outputs": [],
   "source": [
    "%load_ext autoreload\n",
    "%autoreload 2"
   ]
  },
  {
   "cell_type": "code",
   "execution_count": 8,
   "metadata": {},
   "outputs": [],
   "source": [
    "from llm.models import GPT, StructGPT"
   ]
  },
  {
   "cell_type": "code",
   "execution_count": 5,
   "metadata": {},
   "outputs": [],
   "source": [
    "gpt = GPT()\n",
    "response = gpt(\"in 1 word, what's 1+1?\")\n",
    "print(response)"
   ]
  },
  {
   "cell_type": "code",
   "execution_count": 10,
   "metadata": {},
   "outputs": [
    {
     "data": {
      "text/plain": [
       "SongList(songs=[Song(title='Electric Dreams', genre=<Genre.pop: 'pop'>), Song(title='Rebel Thunder', genre=<Genre.rock: 'rock'>), Song(title='Moonshine Serenade', genre=<Genre.country: 'country'>)])"
      ]
     },
     "execution_count": 10,
     "metadata": {},
     "output_type": "execute_result"
    }
   ],
   "source": [
    "from enum import Enum\n",
    "from pydantic import BaseModel\n",
    "\n",
    "class Genre(str, Enum):\n",
    "    pop = \"pop\"\n",
    "    rock = \"rock\"\n",
    "    country = \"country\"\n",
    "    hip_hop = \"hip hop\"\n",
    "\n",
    "class Song(BaseModel):\n",
    "    title: str\n",
    "    genre: Genre\n",
    "\n",
    "class SongList(BaseModel):\n",
    "    songs: list[Song]\n",
    "\n",
    "song_generator = StructGPT(SongList, \"Generate 3 random songs with creative titles\")\n",
    "song_generator()"
   ]
  },
  {
   "cell_type": "code",
   "execution_count": null,
   "metadata": {},
   "outputs": [],
   "source": []
  }
 ],
 "metadata": {
  "kernelspec": {
   "display_name": "cards",
   "language": "python",
   "name": "python3"
  },
  "language_info": {
   "codemirror_mode": {
    "name": "ipython",
    "version": 3
   },
   "file_extension": ".py",
   "mimetype": "text/x-python",
   "name": "python",
   "nbconvert_exporter": "python",
   "pygments_lexer": "ipython3",
   "version": "3.11.5"
  }
 },
 "nbformat": 4,
 "nbformat_minor": 2
}
